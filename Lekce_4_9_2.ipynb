{
  "nbformat": 4,
  "nbformat_minor": 0,
  "metadata": {
    "colab": {
      "name": "Lekce_4_9_2.ipynb",
      "provenance": [],
      "authorship_tag": "ABX9TyNfOCE5oVwHrkpJrShjQlJu",
      "include_colab_link": true
    },
    "kernelspec": {
      "name": "python3",
      "display_name": "Python 3"
    }
  },
  "cells": [
    {
      "cell_type": "markdown",
      "metadata": {
        "id": "view-in-github",
        "colab_type": "text"
      },
      "source": [
        "<a href=\"https://colab.research.google.com/github/valenja9/My_dino_project/blob/master/Lekce_4_9_2.ipynb\" target=\"_parent\"><img src=\"https://colab.research.google.com/assets/colab-badge.svg\" alt=\"Open In Colab\"/></a>"
      ]
    },
    {
      "cell_type": "code",
      "metadata": {
        "id": "1d7DTjDlw79v"
      },
      "source": [
        "zdroj1 = \"Lupa.cz\"\r\n",
        "clanek1 = \"Clubhouse z pohledu soukromí a bezpečnosti? Dáváte mu všechny své kontakty\"\r\n",
        "perex1 = \"Čínská společnost Huawei počátkem února odstartovala výstavbu své první továrny na území Evropské unie, která je zároveň první továrnou mimo Asii. Kromě domovské Číny je výroba umístěna v Indii, kde se z dovezených součástek montují telefony. Nový…\"\r\n",
        "\r\n",
        "\r\n",
        "zdroj2 = \"Novinky.cz\"\r\n",
        "clanek2 = \"CD Projekt obětí ransomwaru. Máme zdrojové kódy Cyberpunku 2077, tvrdí útočníci\"\r\n",
        "perex2  = \"Herní společnost CD Projekt RED se stala obětí ransomwaru. Útočníci stáhli zatím neupřesněné množství objem dat a zašifrovali některé servery. Firma o tom informovala na Twitteru. Hackeři v prohlášení, které studio zveřejnilo, tvrdí, že se zmocnili…\"\r\n",
        "\r\n",
        " #1) Vytvorte databazi jednotlivych zdroju\r\n",
        " #2) Pridejte tam jejich clanky a perexy\r\n",
        " #3) Pridejte informaci kolik znaku je ve clanku\r\n",
        " #4) Zadejme nove clanky pomoci input.\r\n",
        "databaze_clanku = dict()"
      ],
      "execution_count": 3,
      "outputs": []
    },
    {
      "cell_type": "code",
      "metadata": {
        "colab": {
          "base_uri": "https://localhost:8080/"
        },
        "id": "RG5dtM3759Jo",
        "outputId": "8c6458b1-8470-4181-9d73-29341b4f79d5"
      },
      "source": [
        "zdroj = input(\"Zadej zdroj clanku: \")\r\n",
        "titulek = input(\"Zadej titulek clanku: \")\r\n",
        "perex = input(\"Zadej perex clanku: \")\r\n",
        "index = int(input(\"Zacdej poradi clanku: \"))\r\n",
        "databaze_clanku[zdroj] = {index: \"\"}\r\n",
        "databaze_clanku[zdroj][index] = {\"titulek\":titulek, \"perex\":perex, \"delka_perexu\": len(perex)} "
      ],
      "execution_count": 26,
      "outputs": [
        {
          "output_type": "stream",
          "text": [
            "Zadej zdroj clanku: p\n",
            "Zadej titulek clanku: k\n",
            "Zadej perex clanku: s\n",
            "Zacdej poradi clanku: 0\n"
          ],
          "name": "stdout"
        }
      ]
    },
    {
      "cell_type": "code",
      "metadata": {
        "colab": {
          "base_uri": "https://localhost:8080/"
        },
        "id": "vjjDp_8D8Na1",
        "outputId": "7493dcfe-ccfe-48ad-9a87-4ed08e403334"
      },
      "source": [
        "databaze_clanku"
      ],
      "execution_count": 27,
      "outputs": [
        {
          "output_type": "execute_result",
          "data": {
            "text/plain": [
              "{'Lupa.cz': 0,\n",
              " 'Novinky.cz': {0: {'Delka_clanku': 249,\n",
              "   'perex': 'Herní společnost CD Projekt RED se stala obětí ransomwaru. Útočníci stáhli zatím neupřesněné množství objem dat a zašifrovali některé servery. Firma o tom informovala na Twitteru. Hackeři v prohlášení, které studio zveřejnilo, tvrdí, že se zmocnili…',\n",
              "   'titulek': 'CD Projekt obětí ransomwaru. Máme zdrojové kódy Cyberpunku 2077, tvrdí útočníci'}},\n",
              " 'p': {0: {'delka_perexu': 1, 'perex': 's', 'titulek': 'k'}},\n",
              " 'w': 0}"
            ]
          },
          "metadata": {
            "tags": []
          },
          "execution_count": 27
        }
      ]
    },
    {
      "cell_type": "code",
      "metadata": {
        "id": "pKGKdODv7Lr3"
      },
      "source": [
        "databaze_clanku[\"Lupa.cz\"][]  = 0"
      ],
      "execution_count": 21,
      "outputs": []
    },
    {
      "cell_type": "code",
      "metadata": {
        "colab": {
          "base_uri": "https://localhost:8080/"
        },
        "id": "xlOLQ6U87Ta8",
        "outputId": "750548cd-4f47-4a25-90cc-7ee0d9ba83a3"
      },
      "source": [
        "databaze_clanku"
      ],
      "execution_count": 23,
      "outputs": [
        {
          "output_type": "execute_result",
          "data": {
            "text/plain": [
              "{'Lupa.cz': 0,\n",
              " 'Novinky.cz': {0: {'Delka_clanku': 249,\n",
              "   'perex': 'Herní společnost CD Projekt RED se stala obětí ransomwaru. Útočníci stáhli zatím neupřesněné množství objem dat a zašifrovali některé servery. Firma o tom informovala na Twitteru. Hackeři v prohlášení, které studio zveřejnilo, tvrdí, že se zmocnili…',\n",
              "   'titulek': 'CD Projekt obětí ransomwaru. Máme zdrojové kódy Cyberpunku 2077, tvrdí útočníci'}}}"
            ]
          },
          "metadata": {
            "tags": []
          },
          "execution_count": 23
        }
      ]
    },
    {
      "cell_type": "code",
      "metadata": {
        "id": "sUcW-4D60Xqb"
      },
      "source": [
        "databaze_clanku[zdroj1] = {}\r\n",
        "databaze_clanku[zdroj2] = {}"
      ],
      "execution_count": null,
      "outputs": []
    },
    {
      "cell_type": "markdown",
      "metadata": {
        "id": "-wIjeQ5_27al"
      },
      "source": [
        "# Reseni"
      ]
    },
    {
      "cell_type": "code",
      "metadata": {
        "colab": {
          "base_uri": "https://localhost:8080/"
        },
        "id": "zDE7ssR_2_fp",
        "outputId": "331c2b6e-0fd2-46d7-9701-feb60ef29927"
      },
      "source": [
        "databaze_clanku = dict() \r\n",
        "databaze_clanku.setdefault(zdroj1) #predvitvoreni klice\r\n",
        "databaze_clanku.setdefault(zdroj2)\r\n",
        "databaze_clanku[zdroj1] = [clanek1, perex1, len(perex1)]\r\n",
        "databaze_clanku[zdroj2] = [clanek2, perex2, len(perex2)]\r\n",
        "print(databaze_clanku)"
      ],
      "execution_count": 5,
      "outputs": [
        {
          "output_type": "stream",
          "text": [
            "{'Lupa.cz': ['Clubhouse z pohledu soukromí a bezpečnosti? Dáváte mu všechny své kontakty', 'Čínská společnost Huawei počátkem února odstartovala výstavbu své první továrny na území Evropské unie, která je zároveň první továrnou mimo Asii. Kromě domovské Číny je výroba umístěna v Indii, kde se z dovezených součástek montují telefony. Nový…', 248], 'Novinky.cz': ['CD Projekt obětí ransomwaru. Máme zdrojové kódy Cyberpunku 2077, tvrdí útočníci', 'Herní společnost CD Projekt RED se stala obětí ransomwaru. Útočníci stáhli zatím neupřesněné množství objem dat a zašifrovali některé servery. Firma o tom informovala na Twitteru. Hackeři v prohlášení, které studio zveřejnilo, tvrdí, že se zmocnili…', 249]}\n"
          ],
          "name": "stdout"
        }
      ]
    },
    {
      "cell_type": "code",
      "metadata": {
        "colab": {
          "base_uri": "https://localhost:8080/",
          "height": 69
        },
        "id": "zkSXDFWM3_x8",
        "outputId": "7c5fb42b-4cc7-482a-bbc1-5855e87ed086"
      },
      "source": [
        "databaze_clanku[zdroj2][1]"
      ],
      "execution_count": 8,
      "outputs": [
        {
          "output_type": "execute_result",
          "data": {
            "application/vnd.google.colaboratory.intrinsic+json": {
              "type": "string"
            },
            "text/plain": [
              "'Herní společnost CD Projekt RED se stala obětí ransomwaru. Útočníci stáhli zatím neupřesněné množství objem dat a zašifrovali některé servery. Firma o tom informovala na Twitteru. Hackeři v prohlášení, které studio zveřejnilo, tvrdí, že se zmocnili…'"
            ]
          },
          "metadata": {
            "tags": []
          },
          "execution_count": 8
        }
      ]
    },
    {
      "cell_type": "code",
      "metadata": {
        "colab": {
          "base_uri": "https://localhost:8080/"
        },
        "id": "X8gN5WVf4PoQ",
        "outputId": "fe7010ac-e845-4120-dd4f-bd2b04bc49e9"
      },
      "source": [
        "databaze_clanku = dict() \r\n",
        "databaze_clanku.setdefault(zdroj1) #predvitvoreni klice\r\n",
        "databaze_clanku.setdefault(zdroj2)\r\n",
        "databaze_clanku[zdroj1] = {0 : {\"titulek\" : clanek1, \"perex\" : perex1, \"Delka_clanku\" : len(perex1)}}\r\n",
        "databaze_clanku[zdroj2] = {0 : {\"titulek\": clanek2, \"perex\":perex2, \"Delka_clanku\" : len(perex2)}}\r\n",
        "print(databaze_clanku)"
      ],
      "execution_count": 17,
      "outputs": [
        {
          "output_type": "stream",
          "text": [
            "{'Lupa.cz': {0: {'titulek': 'Clubhouse z pohledu soukromí a bezpečnosti? Dáváte mu všechny své kontakty', 'perex': 'Čínská společnost Huawei počátkem února odstartovala výstavbu své první továrny na území Evropské unie, která je zároveň první továrnou mimo Asii. Kromě domovské Číny je výroba umístěna v Indii, kde se z dovezených součástek montují telefony. Nový…', 'Delka_clanku': 248}}, 'Novinky.cz': {0: {'titulek': 'CD Projekt obětí ransomwaru. Máme zdrojové kódy Cyberpunku 2077, tvrdí útočníci', 'perex': 'Herní společnost CD Projekt RED se stala obětí ransomwaru. Útočníci stáhli zatím neupřesněné množství objem dat a zašifrovali některé servery. Firma o tom informovala na Twitteru. Hackeři v prohlášení, které studio zveřejnilo, tvrdí, že se zmocnili…', 'Delka_clanku': 249}}}\n"
          ],
          "name": "stdout"
        }
      ]
    },
    {
      "cell_type": "code",
      "metadata": {
        "colab": {
          "base_uri": "https://localhost:8080/"
        },
        "id": "SVf8uEGZ42FT",
        "outputId": "f85c58a1-b043-4d75-c462-301cb99c65d7"
      },
      "source": [
        "databaze_clanku[\"Lupa.cz\"][0][\"Delka_clanku\"]"
      ],
      "execution_count": 18,
      "outputs": [
        {
          "output_type": "execute_result",
          "data": {
            "text/plain": [
              "248"
            ]
          },
          "metadata": {
            "tags": []
          },
          "execution_count": 18
        }
      ]
    },
    {
      "cell_type": "code",
      "metadata": {
        "colab": {
          "base_uri": "https://localhost:8080/"
        },
        "id": "_lz3nf1750ux",
        "outputId": "abfd0c7f-c6a6-4641-8e66-d1cc1843e8b1"
      },
      "source": [
        " #1) Vytvorte databazi jednotlivych zdroju\r\n",
        "databaze_clanku = dict()\r\n",
        "databaze_clanku.setdefault(\"clanek1\", dict(((\"zdroj1\",zdroj1),(\"clanek1\",clanek1), (\"perex1\",perex1))))\r\n",
        "databaze_clanku.setdefault(\"clanek2\", dict(((\"zdroj2\",zdroj2),(\"clanek2\",clanek2), (\"perex2\",perex2))))\r\n",
        "databaze_clanku[\"clanek1\"][\"delka\"] = len(clanek1)\r\n",
        "databaze_clanku[\"clanek2\"][\"delka\"] = len(clanek2)\r\n",
        "#4) Zadejme nove clanky pomoci input.\r\n",
        "hodnoceni = int(input(\"zadej hodnoceni clanku1 (1-nejlepsi, 5-nejhorsi): \"))\r\n",
        "databaze_clanku[\"clanek1\"][\"hodnoceni\"] = hodnoceni\r\n",
        "print(databaze_clanku)"
      ],
      "execution_count": 28,
      "outputs": [
        {
          "output_type": "stream",
          "text": [
            "zadej hodnoceni clanku1 (1-nejlepsi, 5-nejhorsi): 0\n",
            "{'clanek1': {'zdroj1': 'Lupa.cz', 'clanek1': 'Clubhouse z pohledu soukromí a bezpečnosti? Dáváte mu všechny své kontakty', 'perex1': 'Čínská společnost Huawei počátkem února odstartovala výstavbu své první továrny na území Evropské unie, která je zároveň první továrnou mimo Asii. Kromě domovské Číny je výroba umístěna v Indii, kde se z dovezených součástek montují telefony. Nový…', 'delka': 74, 'hodnoceni': 0}, 'clanek2': {'zdroj2': 'Novinky.cz', 'clanek2': 'CD Projekt obětí ransomwaru. Máme zdrojové kódy Cyberpunku 2077, tvrdí útočníci', 'perex2': 'Herní společnost CD Projekt RED se stala obětí ransomwaru. Útočníci stáhli zatím neupřesněné množství objem dat a zašifrovali některé servery. Firma o tom informovala na Twitteru. Hackeři v prohlášení, které studio zveřejnilo, tvrdí, že se zmocnili…', 'delka': 79}}\n"
          ],
          "name": "stdout"
        }
      ]
    },
    {
      "cell_type": "markdown",
      "metadata": {
        "id": "y5_FnOQz9EEA"
      },
      "source": [
        "# For cyklus"
      ]
    },
    {
      "cell_type": "code",
      "metadata": {
        "colab": {
          "base_uri": "https://localhost:8080/"
        },
        "id": "jkRg0q-G9DsI",
        "outputId": "22f444ba-5698-4d1e-9467-abe6771524a3"
      },
      "source": [
        "list_pismen = []\r\n",
        "for pismeno in \"python\":\r\n",
        "  if pismeno == \"P\":\r\n",
        "    print(pismeno)\r\n",
        "  else:\r\n",
        "    list_pismen.append(pismeno)\r\n",
        "print(list_pismen)"
      ],
      "execution_count": 30,
      "outputs": [
        {
          "output_type": "stream",
          "text": [
            "['p', 'y', 't', 'h', 'o', 'n']\n"
          ],
          "name": "stdout"
        }
      ]
    },
    {
      "cell_type": "code",
      "metadata": {
        "colab": {
          "base_uri": "https://localhost:8080/"
        },
        "id": "uRcmfMrcBBWR",
        "outputId": "465ec8ba-b030-4f59-9a85-3265b50fb9ab"
      },
      "source": [
        "soucet = 0\r\n",
        "for i in [0,2,4]:\r\n",
        "  soucet += i\r\n",
        "print(soucet)\r\n"
      ],
      "execution_count": 31,
      "outputs": [
        {
          "output_type": "stream",
          "text": [
            "6\n"
          ],
          "name": "stdout"
        }
      ]
    },
    {
      "cell_type": "code",
      "metadata": {
        "colab": {
          "base_uri": "https://localhost:8080/"
        },
        "id": "Z0XBrZpoBo8p",
        "outputId": "296edb8d-acfd-43d8-fadb-d3d40b8014e2"
      },
      "source": [
        "dict_ = {\"heslo\": \"44sdssjd\"} \r\n",
        "for key, value in dict_.items():\r\n",
        "  print(key, value)"
      ],
      "execution_count": 39,
      "outputs": [
        {
          "output_type": "stream",
          "text": [
            "heslo 44sdssjd\n"
          ],
          "name": "stdout"
        }
      ]
    },
    {
      "cell_type": "code",
      "metadata": {
        "colab": {
          "base_uri": "https://localhost:8080/",
          "height": 181
        },
        "id": "pWBeYDjGC39P",
        "outputId": "93ce06d2-21a7-40cd-bcff-c966cf6cc269"
      },
      "source": [
        "for i in 56:\r\n",
        "  print(i)"
      ],
      "execution_count": 40,
      "outputs": [
        {
          "output_type": "error",
          "ename": "TypeError",
          "evalue": "ignored",
          "traceback": [
            "\u001b[0;31m---------------------------------------------------------------------------\u001b[0m",
            "\u001b[0;31mTypeError\u001b[0m                                 Traceback (most recent call last)",
            "\u001b[0;32m<ipython-input-40-bcdc395ef862>\u001b[0m in \u001b[0;36m<module>\u001b[0;34m()\u001b[0m\n\u001b[0;32m----> 1\u001b[0;31m \u001b[0;32mfor\u001b[0m \u001b[0mi\u001b[0m \u001b[0;32min\u001b[0m \u001b[0;36m56\u001b[0m\u001b[0;34m:\u001b[0m\u001b[0;34m\u001b[0m\u001b[0;34m\u001b[0m\u001b[0m\n\u001b[0m\u001b[1;32m      2\u001b[0m   \u001b[0mprint\u001b[0m\u001b[0;34m(\u001b[0m\u001b[0mi\u001b[0m\u001b[0;34m)\u001b[0m\u001b[0;34m\u001b[0m\u001b[0;34m\u001b[0m\u001b[0m\n",
            "\u001b[0;31mTypeError\u001b[0m: 'int' object is not iterable"
          ]
        }
      ]
    },
    {
      "cell_type": "code",
      "metadata": {
        "colab": {
          "base_uri": "https://localhost:8080/"
        },
        "id": "9fb0NunrC_mD",
        "outputId": "04b901a5-84bc-40bf-92b9-6a785d6538e6"
      },
      "source": [
        "for i in set(range(200)):\r\n",
        "  print(i)"
      ],
      "execution_count": 51,
      "outputs": [
        {
          "output_type": "stream",
          "text": [
            "0\n",
            "1\n",
            "2\n",
            "3\n",
            "4\n",
            "5\n",
            "6\n",
            "7\n",
            "8\n",
            "9\n",
            "10\n",
            "11\n",
            "12\n",
            "13\n",
            "14\n",
            "15\n",
            "16\n",
            "17\n",
            "18\n",
            "19\n",
            "20\n",
            "21\n",
            "22\n",
            "23\n",
            "24\n",
            "25\n",
            "26\n",
            "27\n",
            "28\n",
            "29\n",
            "30\n",
            "31\n",
            "32\n",
            "33\n",
            "34\n",
            "35\n",
            "36\n",
            "37\n",
            "38\n",
            "39\n",
            "40\n",
            "41\n",
            "42\n",
            "43\n",
            "44\n",
            "45\n",
            "46\n",
            "47\n",
            "48\n",
            "49\n",
            "50\n",
            "51\n",
            "52\n",
            "53\n",
            "54\n",
            "55\n",
            "56\n",
            "57\n",
            "58\n",
            "59\n",
            "60\n",
            "61\n",
            "62\n",
            "63\n",
            "64\n",
            "65\n",
            "66\n",
            "67\n",
            "68\n",
            "69\n",
            "70\n",
            "71\n",
            "72\n",
            "73\n",
            "74\n",
            "75\n",
            "76\n",
            "77\n",
            "78\n",
            "79\n",
            "80\n",
            "81\n",
            "82\n",
            "83\n",
            "84\n",
            "85\n",
            "86\n",
            "87\n",
            "88\n",
            "89\n",
            "90\n",
            "91\n",
            "92\n",
            "93\n",
            "94\n",
            "95\n",
            "96\n",
            "97\n",
            "98\n",
            "99\n",
            "100\n",
            "101\n",
            "102\n",
            "103\n",
            "104\n",
            "105\n",
            "106\n",
            "107\n",
            "108\n",
            "109\n",
            "110\n",
            "111\n",
            "112\n",
            "113\n",
            "114\n",
            "115\n",
            "116\n",
            "117\n",
            "118\n",
            "119\n",
            "120\n",
            "121\n",
            "122\n",
            "123\n",
            "124\n",
            "125\n",
            "126\n",
            "127\n",
            "128\n",
            "129\n",
            "130\n",
            "131\n",
            "132\n",
            "133\n",
            "134\n",
            "135\n",
            "136\n",
            "137\n",
            "138\n",
            "139\n",
            "140\n",
            "141\n",
            "142\n",
            "143\n",
            "144\n",
            "145\n",
            "146\n",
            "147\n",
            "148\n",
            "149\n",
            "150\n",
            "151\n",
            "152\n",
            "153\n",
            "154\n",
            "155\n",
            "156\n",
            "157\n",
            "158\n",
            "159\n",
            "160\n",
            "161\n",
            "162\n",
            "163\n",
            "164\n",
            "165\n",
            "166\n",
            "167\n",
            "168\n",
            "169\n",
            "170\n",
            "171\n",
            "172\n",
            "173\n",
            "174\n",
            "175\n",
            "176\n",
            "177\n",
            "178\n",
            "179\n",
            "180\n",
            "181\n",
            "182\n",
            "183\n",
            "184\n",
            "185\n",
            "186\n",
            "187\n",
            "188\n",
            "189\n",
            "190\n",
            "191\n",
            "192\n",
            "193\n",
            "194\n",
            "195\n",
            "196\n",
            "197\n",
            "198\n",
            "199\n"
          ],
          "name": "stdout"
        }
      ]
    },
    {
      "cell_type": "code",
      "metadata": {
        "colab": {
          "base_uri": "https://localhost:8080/"
        },
        "id": "s-jAexSNE_JB",
        "outputId": "148ab8cb-b168-474e-c2ce-a15fc62b3571"
      },
      "source": [
        "mnozina = {50,60,70,90}\r\n",
        "for i in mnozina:\r\n",
        "  print(i)"
      ],
      "execution_count": 50,
      "outputs": [
        {
          "output_type": "stream",
          "text": [
            "50\n",
            "60\n",
            "90\n",
            "70\n"
          ],
          "name": "stdout"
        }
      ]
    },
    {
      "cell_type": "code",
      "metadata": {
        "colab": {
          "base_uri": "https://localhost:8080/"
        },
        "id": "V0bZpUVIDQEY",
        "outputId": "e6e35c37-b826-4923-d1f7-5055125f5de7"
      },
      "source": [
        "for i in {50,60,70,90}:\r\n",
        "  print(i)\r\n",
        "  if i == 50:\r\n",
        "    print(\"Jsem ve vetvy continue\")\r\n",
        "    continue\r\n",
        "  elif i == 70:\r\n",
        "    print(\"jsem ve vetvi break\")\r\n",
        "    break\r\n",
        "  else:\r\n",
        "    print(\"Tohle je else:\", i)\r\n",
        "else:\r\n",
        "  print(\"tohle je else za kodem\")"
      ],
      "execution_count": 52,
      "outputs": [
        {
          "output_type": "stream",
          "text": [
            "50\n",
            "Jsem ve vetvy continue\n",
            "60\n",
            "Tohle je else: 60\n",
            "90\n",
            "Tohle je else: 90\n",
            "70\n",
            "jsem ve vetvi break\n"
          ],
          "name": "stdout"
        }
      ]
    },
    {
      "cell_type": "code",
      "metadata": {
        "colab": {
          "base_uri": "https://localhost:8080/"
        },
        "id": "e5QJpNSoEsNG",
        "outputId": "a518a37d-61d4-4f6e-8bd5-29d0e932c94d"
      },
      "source": [
        "for i in {50,40,30,20,10,90}:\r\n",
        "  print(i)"
      ],
      "execution_count": 54,
      "outputs": [
        {
          "output_type": "stream",
          "text": [
            "40\n",
            "10\n",
            "50\n",
            "20\n",
            "90\n",
            "30\n"
          ],
          "name": "stdout"
        }
      ]
    },
    {
      "cell_type": "code",
      "metadata": {
        "colab": {
          "base_uri": "https://localhost:8080/"
        },
        "id": "rQ4F4cKxGpjM",
        "outputId": "3f99668a-0b75-4356-c4b8-bc684ce5f3ea"
      },
      "source": [
        "for i in range(10):\r\n",
        "  print(i)"
      ],
      "execution_count": 58,
      "outputs": [
        {
          "output_type": "stream",
          "text": [
            "0\n",
            "1\n",
            "2\n",
            "3\n",
            "4\n",
            "5\n",
            "6\n",
            "7\n",
            "8\n",
            "9\n"
          ],
          "name": "stdout"
        }
      ]
    },
    {
      "cell_type": "code",
      "metadata": {
        "colab": {
          "base_uri": "https://localhost:8080/"
        },
        "id": "yckHXC5aHhNW",
        "outputId": "0d542546-1530-4997-d39e-50e3ffd1fa89"
      },
      "source": [
        "sorted({50, 60, 70, 80, 90})"
      ],
      "execution_count": 61,
      "outputs": [
        {
          "output_type": "execute_result",
          "data": {
            "text/plain": [
              "[50, 60, 70, 80, 90]"
            ]
          },
          "metadata": {
            "tags": []
          },
          "execution_count": 61
        }
      ]
    },
    {
      "cell_type": "code",
      "metadata": {
        "id": "gdxGri4KHUKg"
      },
      "source": [
        "list({})"
      ],
      "execution_count": null,
      "outputs": []
    },
    {
      "cell_type": "code",
      "metadata": {
        "colab": {
          "base_uri": "https://localhost:8080/"
        },
        "id": "aDwOXIu6HFbc",
        "outputId": "e1508011-3ec1-4a78-dfc1-bc13e6ed855a"
      },
      "source": [
        "for i in range(10,50,10):\r\n",
        "  print(i)"
      ],
      "execution_count": 64,
      "outputs": [
        {
          "output_type": "stream",
          "text": [
            "10\n",
            "20\n",
            "30\n",
            "40\n"
          ],
          "name": "stdout"
        }
      ]
    },
    {
      "cell_type": "code",
      "metadata": {
        "colab": {
          "base_uri": "https://localhost:8080/"
        },
        "id": "lm-vaiM6H1nE",
        "outputId": "e8e0d70f-17ea-410c-efad-63cd73afec00"
      },
      "source": [
        "clanky = list(range(150))\r\n",
        "for i in range(len(clanky)):\r\n",
        "   for clanky in zdroj:\r\n",
        "     claky[0] = "
      ],
      "execution_count": 65,
      "outputs": [
        {
          "output_type": "stream",
          "text": [
            "0\n",
            "1\n",
            "2\n",
            "3\n",
            "4\n",
            "5\n",
            "6\n",
            "7\n",
            "8\n",
            "9\n",
            "10\n",
            "11\n",
            "12\n",
            "13\n",
            "14\n",
            "15\n",
            "16\n",
            "17\n",
            "18\n",
            "19\n",
            "20\n",
            "21\n",
            "22\n",
            "23\n",
            "24\n",
            "25\n",
            "26\n",
            "27\n",
            "28\n",
            "29\n",
            "30\n",
            "31\n",
            "32\n",
            "33\n",
            "34\n",
            "35\n",
            "36\n",
            "37\n",
            "38\n",
            "39\n",
            "40\n",
            "41\n",
            "42\n",
            "43\n",
            "44\n",
            "45\n",
            "46\n",
            "47\n",
            "48\n",
            "49\n",
            "50\n",
            "51\n",
            "52\n",
            "53\n",
            "54\n",
            "55\n",
            "56\n",
            "57\n",
            "58\n",
            "59\n",
            "60\n",
            "61\n",
            "62\n",
            "63\n",
            "64\n",
            "65\n",
            "66\n",
            "67\n",
            "68\n",
            "69\n",
            "70\n",
            "71\n",
            "72\n",
            "73\n",
            "74\n",
            "75\n",
            "76\n",
            "77\n",
            "78\n",
            "79\n",
            "80\n",
            "81\n",
            "82\n",
            "83\n",
            "84\n",
            "85\n",
            "86\n",
            "87\n",
            "88\n",
            "89\n",
            "90\n",
            "91\n",
            "92\n",
            "93\n",
            "94\n",
            "95\n",
            "96\n",
            "97\n",
            "98\n",
            "99\n",
            "100\n",
            "101\n",
            "102\n",
            "103\n",
            "104\n",
            "105\n",
            "106\n",
            "107\n",
            "108\n",
            "109\n",
            "110\n",
            "111\n",
            "112\n",
            "113\n",
            "114\n",
            "115\n",
            "116\n",
            "117\n",
            "118\n",
            "119\n",
            "120\n",
            "121\n",
            "122\n",
            "123\n",
            "124\n",
            "125\n",
            "126\n",
            "127\n",
            "128\n",
            "129\n",
            "130\n",
            "131\n",
            "132\n",
            "133\n",
            "134\n",
            "135\n",
            "136\n",
            "137\n",
            "138\n",
            "139\n",
            "140\n",
            "141\n",
            "142\n",
            "143\n",
            "144\n",
            "145\n",
            "146\n",
            "147\n",
            "148\n",
            "149\n"
          ],
          "name": "stdout"
        }
      ]
    },
    {
      "cell_type": "code",
      "metadata": {
        "colab": {
          "base_uri": "https://localhost:8080/"
        },
        "id": "VhNA-qPkJosG",
        "outputId": "1d54d7f0-3988-402b-f273-4c754aed864c"
      },
      "source": [
        "enumerate(slova)"
      ],
      "execution_count": 74,
      "outputs": [
        {
          "output_type": "execute_result",
          "data": {
            "text/plain": [
              "<enumerate at 0x7fc323b1a360>"
            ]
          },
          "metadata": {
            "tags": []
          },
          "execution_count": 74
        }
      ]
    },
    {
      "cell_type": "code",
      "metadata": {
        "colab": {
          "base_uri": "https://localhost:8080/"
        },
        "id": "5RQmhI-gJKpe",
        "outputId": "dec2aefb-a798-4926-9e39-e353d1ab6ae6"
      },
      "source": [
        "slova = \"Tohle je veta\".split(\" \")\r\n",
        "for i, slovo in enumerate(slova):\r\n",
        "  print(i,slovo)"
      ],
      "execution_count": 71,
      "outputs": [
        {
          "output_type": "stream",
          "text": [
            "5 Tohle\n",
            "6 je\n",
            "7 veta\n"
          ],
          "name": "stdout"
        }
      ]
    },
    {
      "cell_type": "code",
      "metadata": {
        "id": "nAOLPmkCMS98"
      },
      "source": [
        "TEXT = \"\"\"\r\n",
        "Affronting imprudence do he he everything. Sex lasted dinner wanted indeed\r\n",
        "wished out law. Far advanced settling say finished raillery. Offered\r\n",
        "chiefly farther of my no colonel shyness. Such on help ye some door if in.\r\n",
        "Laughter proposal laughing any son law consider. Needed except up piqued\r\n",
        "an. Her companions instrument set estimating sex remarkably solicitude\r\n",
        "motionless. Property men the why smallest graceful day insisted required.\r\n",
        "Inquiry justice country old placing sitting any ten age. Looking venture\r\n",
        "justice in evident in totally he do ability. Be is lose girl long of up give.\r\n",
        "Trifling wondered unpacked ye at he. In household certainty an on tolerably\r\n",
        "smallness difficult. Many no each like up be is next neat. Put not enjoyment\r\n",
        "behaviour her supposing. At he pulled object others. His exquisite sincerity\r\n",
        "education shameless ten earnestly breakfast add. So we me unknown as improve\r\n",
        "hastily sitting forming. Especially favourable compliment but thoroughly\r\n",
        "unreserved saw she themselves. Sufficient impossible him may ten insensible\r\n",
        "put continuing. Oppose exeter income simple few joy cousin but twenty. Scale\r\n",
        "began quiet up short wrong in in. Sportsmen shy forfeited engrossed may can.\r\n",
        "Remain valley who mrs uneasy remove wooded him you. Her questions favourite\r\n",
        "him concealed. We to wife face took he. The taste begin early old why since\r\n",
        "dried can first. Prepared as or humoured formerly. Evil mrs true get post. Express village evening prudent my as ye hundred forming. Thoughts she why not\r\n",
        "directly reserved packages you. Winter an silent favour of am tended mutual. \r\n",
        "\"\"\""
      ],
      "execution_count": 80,
      "outputs": []
    },
    {
      "cell_type": "code",
      "metadata": {
        "id": "Ff0-LK-HMs8L"
      },
      "source": [
        "jednotlive_slova = TEXT.split(\" \")"
      ],
      "execution_count": 81,
      "outputs": []
    },
    {
      "cell_type": "code",
      "metadata": {
        "id": "TbIQBYV2M8Lm"
      },
      "source": [
        "vycistena_slova = []\r\n",
        "for slovo in jednotlive_slova:\r\n",
        "  vycistena_slova.append(slovo.strip(\".,!\"))"
      ],
      "execution_count": 84,
      "outputs": []
    },
    {
      "cell_type": "code",
      "metadata": {
        "id": "qGD01lp6NwB4"
      },
      "source": [
        "vycistena_slova = [slovo.strip(\".,!\")  for slovo in vycistena_slova]"
      ],
      "execution_count": 93,
      "outputs": []
    },
    {
      "cell_type": "code",
      "metadata": {
        "colab": {
          "base_uri": "https://localhost:8080/"
        },
        "id": "X5pPxNFkOWCn",
        "outputId": "5350f84f-117c-4c90-be02-a5665b83c385"
      },
      "source": [
        "vycistena_slova"
      ],
      "execution_count": 94,
      "outputs": [
        {
          "output_type": "execute_result",
          "data": {
            "text/plain": [
              "['\\nAffronting',\n",
              " 'imprudence',\n",
              " 'do',\n",
              " 'he',\n",
              " 'he',\n",
              " 'everything',\n",
              " 'Sex',\n",
              " 'lasted',\n",
              " 'dinner',\n",
              " 'wanted',\n",
              " 'indeed\\nwished',\n",
              " 'out',\n",
              " 'law',\n",
              " 'Far',\n",
              " 'advanced',\n",
              " 'settling',\n",
              " 'say',\n",
              " 'finished',\n",
              " 'raillery',\n",
              " 'Offered\\nchiefly',\n",
              " 'farther',\n",
              " 'of',\n",
              " 'my',\n",
              " 'no',\n",
              " 'colonel',\n",
              " 'shyness',\n",
              " 'Such',\n",
              " 'on',\n",
              " 'help',\n",
              " 'ye',\n",
              " 'some',\n",
              " 'door',\n",
              " 'if',\n",
              " 'in.\\nLaughter',\n",
              " 'proposal',\n",
              " 'laughing',\n",
              " 'any',\n",
              " 'son',\n",
              " 'law',\n",
              " 'consider',\n",
              " 'Needed',\n",
              " 'except',\n",
              " 'up',\n",
              " 'piqued\\nan',\n",
              " 'Her',\n",
              " 'companions',\n",
              " 'instrument',\n",
              " 'set',\n",
              " 'estimating',\n",
              " 'sex',\n",
              " 'remarkably',\n",
              " 'solicitude\\nmotionless',\n",
              " 'Property',\n",
              " 'men',\n",
              " 'the',\n",
              " 'why',\n",
              " 'smallest',\n",
              " 'graceful',\n",
              " 'day',\n",
              " 'insisted',\n",
              " 'required.\\nInquiry',\n",
              " 'justice',\n",
              " 'country',\n",
              " 'old',\n",
              " 'placing',\n",
              " 'sitting',\n",
              " 'any',\n",
              " 'ten',\n",
              " 'age',\n",
              " 'Looking',\n",
              " 'venture\\njustice',\n",
              " 'in',\n",
              " 'evident',\n",
              " 'in',\n",
              " 'totally',\n",
              " 'he',\n",
              " 'do',\n",
              " 'ability',\n",
              " 'Be',\n",
              " 'is',\n",
              " 'lose',\n",
              " 'girl',\n",
              " 'long',\n",
              " 'of',\n",
              " 'up',\n",
              " 'give.\\nTrifling',\n",
              " 'wondered',\n",
              " 'unpacked',\n",
              " 'ye',\n",
              " 'at',\n",
              " 'he',\n",
              " 'In',\n",
              " 'household',\n",
              " 'certainty',\n",
              " 'an',\n",
              " 'on',\n",
              " 'tolerably\\nsmallness',\n",
              " 'difficult',\n",
              " 'Many',\n",
              " 'no',\n",
              " 'each',\n",
              " 'like',\n",
              " 'up',\n",
              " 'be',\n",
              " 'is',\n",
              " 'next',\n",
              " 'neat',\n",
              " 'Put',\n",
              " 'not',\n",
              " 'enjoyment\\nbehaviour',\n",
              " 'her',\n",
              " 'supposing',\n",
              " 'At',\n",
              " 'he',\n",
              " 'pulled',\n",
              " 'object',\n",
              " 'others',\n",
              " 'His',\n",
              " 'exquisite',\n",
              " 'sincerity\\neducation',\n",
              " 'shameless',\n",
              " 'ten',\n",
              " 'earnestly',\n",
              " 'breakfast',\n",
              " 'add',\n",
              " 'So',\n",
              " 'we',\n",
              " 'me',\n",
              " 'unknown',\n",
              " 'as',\n",
              " 'improve\\nhastily',\n",
              " 'sitting',\n",
              " 'forming',\n",
              " 'Especially',\n",
              " 'favourable',\n",
              " 'compliment',\n",
              " 'but',\n",
              " 'thoroughly\\nunreserved',\n",
              " 'saw',\n",
              " 'she',\n",
              " 'themselves',\n",
              " 'Sufficient',\n",
              " 'impossible',\n",
              " 'him',\n",
              " 'may',\n",
              " 'ten',\n",
              " 'insensible\\nput',\n",
              " 'continuing',\n",
              " 'Oppose',\n",
              " 'exeter',\n",
              " 'income',\n",
              " 'simple',\n",
              " 'few',\n",
              " 'joy',\n",
              " 'cousin',\n",
              " 'but',\n",
              " 'twenty',\n",
              " 'Scale\\nbegan',\n",
              " 'quiet',\n",
              " 'up',\n",
              " 'short',\n",
              " 'wrong',\n",
              " 'in',\n",
              " 'in',\n",
              " 'Sportsmen',\n",
              " 'shy',\n",
              " 'forfeited',\n",
              " 'engrossed',\n",
              " 'may',\n",
              " 'can.\\nRemain',\n",
              " 'valley',\n",
              " 'who',\n",
              " 'mrs',\n",
              " 'uneasy',\n",
              " 'remove',\n",
              " 'wooded',\n",
              " 'him',\n",
              " 'you',\n",
              " 'Her',\n",
              " 'questions',\n",
              " 'favourite\\nhim',\n",
              " 'concealed',\n",
              " 'We',\n",
              " 'to',\n",
              " 'wife',\n",
              " 'face',\n",
              " 'took',\n",
              " 'he',\n",
              " 'The',\n",
              " 'taste',\n",
              " 'begin',\n",
              " 'early',\n",
              " 'old',\n",
              " 'why',\n",
              " 'since\\ndried',\n",
              " 'can',\n",
              " 'first',\n",
              " 'Prepared',\n",
              " 'as',\n",
              " 'or',\n",
              " 'humoured',\n",
              " 'formerly',\n",
              " 'Evil',\n",
              " 'mrs',\n",
              " 'true',\n",
              " 'get',\n",
              " 'post',\n",
              " 'Express',\n",
              " 'village',\n",
              " 'evening',\n",
              " 'prudent',\n",
              " 'my',\n",
              " 'as',\n",
              " 'ye',\n",
              " 'hundred',\n",
              " 'forming',\n",
              " 'Thoughts',\n",
              " 'she',\n",
              " 'why',\n",
              " 'not\\ndirectly',\n",
              " 'reserved',\n",
              " 'packages',\n",
              " 'you',\n",
              " 'Winter',\n",
              " 'an',\n",
              " 'silent',\n",
              " 'favour',\n",
              " 'of',\n",
              " 'am',\n",
              " 'tended',\n",
              " 'mutual',\n",
              " '\\n']"
            ]
          },
          "metadata": {
            "tags": []
          },
          "execution_count": 94
        }
      ]
    },
    {
      "cell_type": "code",
      "metadata": {
        "id": "viXWBOPUPbCs"
      },
      "source": [
        "vyskyt_slov = {}\r\n",
        "for cista_slova in vycistena_slova:\r\n",
        "  vyskyt_slov[cista_slova] = vyskyt_slov.setdefault(cista_slova, 0) + 1"
      ],
      "execution_count": 96,
      "outputs": []
    },
    {
      "cell_type": "code",
      "metadata": {
        "colab": {
          "base_uri": "https://localhost:8080/"
        },
        "id": "RcXAYj8OQLWP",
        "outputId": "de948672-b99a-42e2-c44c-e23ee63fa028"
      },
      "source": [
        "vyskyt_slov"
      ],
      "execution_count": 115,
      "outputs": [
        {
          "output_type": "execute_result",
          "data": {
            "text/plain": [
              "{'\\n': 1,\n",
              " '\\nAffronting': 1,\n",
              " 'At': 1,\n",
              " 'Be': 1,\n",
              " 'Especially': 1,\n",
              " 'Evil': 1,\n",
              " 'Express': 1,\n",
              " 'Far': 1,\n",
              " 'Her': 2,\n",
              " 'His': 1,\n",
              " 'In': 1,\n",
              " 'Looking': 1,\n",
              " 'Many': 1,\n",
              " 'Needed': 1,\n",
              " 'Offered\\nchiefly': 1,\n",
              " 'Oppose': 1,\n",
              " 'Prepared': 1,\n",
              " 'Property': 1,\n",
              " 'Put': 1,\n",
              " 'Scale\\nbegan': 1,\n",
              " 'Sex': 1,\n",
              " 'So': 1,\n",
              " 'Sportsmen': 1,\n",
              " 'Such': 1,\n",
              " 'Sufficient': 1,\n",
              " 'The': 1,\n",
              " 'Thoughts': 1,\n",
              " 'We': 1,\n",
              " 'Winter': 1,\n",
              " 'ability': 1,\n",
              " 'add': 1,\n",
              " 'advanced': 1,\n",
              " 'age': 1,\n",
              " 'am': 1,\n",
              " 'an': 2,\n",
              " 'any': 2,\n",
              " 'as': 3,\n",
              " 'at': 1,\n",
              " 'be': 1,\n",
              " 'begin': 1,\n",
              " 'breakfast': 1,\n",
              " 'but': 2,\n",
              " 'can': 1,\n",
              " 'can.\\nRemain': 1,\n",
              " 'certainty': 1,\n",
              " 'colonel': 1,\n",
              " 'companions': 1,\n",
              " 'compliment': 1,\n",
              " 'concealed': 1,\n",
              " 'consider': 1,\n",
              " 'continuing': 1,\n",
              " 'country': 1,\n",
              " 'cousin': 1,\n",
              " 'day': 1,\n",
              " 'difficult': 1,\n",
              " 'dinner': 1,\n",
              " 'do': 2,\n",
              " 'door': 1,\n",
              " 'each': 1,\n",
              " 'early': 1,\n",
              " 'earnestly': 1,\n",
              " 'engrossed': 1,\n",
              " 'enjoyment\\nbehaviour': 1,\n",
              " 'estimating': 1,\n",
              " 'evening': 1,\n",
              " 'everything': 1,\n",
              " 'evident': 1,\n",
              " 'except': 1,\n",
              " 'exeter': 1,\n",
              " 'exquisite': 1,\n",
              " 'face': 1,\n",
              " 'farther': 1,\n",
              " 'favour': 1,\n",
              " 'favourable': 1,\n",
              " 'favourite\\nhim': 1,\n",
              " 'few': 1,\n",
              " 'finished': 1,\n",
              " 'first': 1,\n",
              " 'forfeited': 1,\n",
              " 'formerly': 1,\n",
              " 'forming': 2,\n",
              " 'get': 1,\n",
              " 'girl': 1,\n",
              " 'give.\\nTrifling': 1,\n",
              " 'graceful': 1,\n",
              " 'he': 6,\n",
              " 'help': 1,\n",
              " 'her': 1,\n",
              " 'him': 2,\n",
              " 'household': 1,\n",
              " 'humoured': 1,\n",
              " 'hundred': 1,\n",
              " 'if': 1,\n",
              " 'impossible': 1,\n",
              " 'improve\\nhastily': 1,\n",
              " 'imprudence': 1,\n",
              " 'in': 4,\n",
              " 'in.\\nLaughter': 1,\n",
              " 'income': 1,\n",
              " 'indeed\\nwished': 1,\n",
              " 'insensible\\nput': 1,\n",
              " 'insisted': 1,\n",
              " 'instrument': 1,\n",
              " 'is': 2,\n",
              " 'joy': 1,\n",
              " 'justice': 1,\n",
              " 'lasted': 1,\n",
              " 'laughing': 1,\n",
              " 'law': 2,\n",
              " 'like': 1,\n",
              " 'long': 1,\n",
              " 'lose': 1,\n",
              " 'may': 2,\n",
              " 'me': 1,\n",
              " 'men': 1,\n",
              " 'mrs': 2,\n",
              " 'mutual': 1,\n",
              " 'my': 2,\n",
              " 'neat': 1,\n",
              " 'next': 1,\n",
              " 'no': 2,\n",
              " 'not': 1,\n",
              " 'not\\ndirectly': 1,\n",
              " 'object': 1,\n",
              " 'of': 3,\n",
              " 'old': 2,\n",
              " 'on': 2,\n",
              " 'or': 1,\n",
              " 'others': 1,\n",
              " 'out': 1,\n",
              " 'packages': 1,\n",
              " 'piqued\\nan': 1,\n",
              " 'placing': 1,\n",
              " 'post': 1,\n",
              " 'proposal': 1,\n",
              " 'prudent': 1,\n",
              " 'pulled': 1,\n",
              " 'questions': 1,\n",
              " 'quiet': 1,\n",
              " 'raillery': 1,\n",
              " 'remarkably': 1,\n",
              " 'remove': 1,\n",
              " 'required.\\nInquiry': 1,\n",
              " 'reserved': 1,\n",
              " 'saw': 1,\n",
              " 'say': 1,\n",
              " 'set': 1,\n",
              " 'settling': 1,\n",
              " 'sex': 1,\n",
              " 'shameless': 1,\n",
              " 'she': 2,\n",
              " 'short': 1,\n",
              " 'shy': 1,\n",
              " 'shyness': 1,\n",
              " 'silent': 1,\n",
              " 'simple': 1,\n",
              " 'since\\ndried': 1,\n",
              " 'sincerity\\neducation': 1,\n",
              " 'sitting': 2,\n",
              " 'smallest': 1,\n",
              " 'solicitude\\nmotionless': 1,\n",
              " 'some': 1,\n",
              " 'son': 1,\n",
              " 'supposing': 1,\n",
              " 'taste': 1,\n",
              " 'ten': 3,\n",
              " 'tended': 1,\n",
              " 'the': 1,\n",
              " 'themselves': 1,\n",
              " 'thoroughly\\nunreserved': 1,\n",
              " 'to': 1,\n",
              " 'tolerably\\nsmallness': 1,\n",
              " 'took': 1,\n",
              " 'totally': 1,\n",
              " 'true': 1,\n",
              " 'twenty': 1,\n",
              " 'uneasy': 1,\n",
              " 'unknown': 1,\n",
              " 'unpacked': 1,\n",
              " 'up': 4,\n",
              " 'valley': 1,\n",
              " 'venture\\njustice': 1,\n",
              " 'village': 1,\n",
              " 'wanted': 1,\n",
              " 'we': 1,\n",
              " 'who': 1,\n",
              " 'why': 3,\n",
              " 'wife': 1,\n",
              " 'wondered': 1,\n",
              " 'wooded': 1,\n",
              " 'wrong': 1,\n",
              " 'ye': 3,\n",
              " 'you': 2}"
            ]
          },
          "metadata": {
            "tags": []
          },
          "execution_count": 115
        }
      ]
    },
    {
      "cell_type": "code",
      "metadata": {
        "id": "woK22dRQRCnN"
      },
      "source": [
        "nejcastejsi = sorted(vyskyt_slov, key=vyskyt_slov.get, reverse=True)[:5]"
      ],
      "execution_count": 123,
      "outputs": []
    },
    {
      "cell_type": "code",
      "metadata": {
        "colab": {
          "base_uri": "https://localhost:8080/"
        },
        "id": "By_Qi_LeR2ik",
        "outputId": "72af55cb-fb4e-456f-bf95-653bf6944d0d"
      },
      "source": [
        "nejcestejsi"
      ],
      "execution_count": 124,
      "outputs": [
        {
          "output_type": "execute_result",
          "data": {
            "text/plain": [
              "['up', 'in', 'of', 'ye']"
            ]
          },
          "metadata": {
            "tags": []
          },
          "execution_count": 124
        }
      ]
    },
    {
      "cell_type": "code",
      "metadata": {
        "colab": {
          "base_uri": "https://localhost:8080/"
        },
        "id": "cfOof42hSYiP",
        "outputId": "2cb326a0-f01d-47bf-ebc4-a7745add2410"
      },
      "source": [
        "for index, _ in enumerate(range(len(nejcestejsi), 0 , -1)):\r\n",
        "  print(\"=\" * 26)\r\n",
        "  print(f\"{index}\", end=\", \")\r\n",
        "  for item in nejcastejsi:\r\n",
        "    print(f\"Slovo: {item}\", f\"Vyskyt: {vyskyt_slov[item]}x\")\r\n",
        "    nejcastejsi.remove(item)\r\n",
        "    break"
      ],
      "execution_count": 126,
      "outputs": [
        {
          "output_type": "stream",
          "text": [
            "==========================\n",
            "0, Slovo: he Vyskyt: 6x\n",
            "==========================\n",
            "1, Slovo: up Vyskyt: 4x\n",
            "==========================\n",
            "2, Slovo: in Vyskyt: 4x\n",
            "==========================\n",
            "3, Slovo: of Vyskyt: 3x\n"
          ],
          "name": "stdout"
        }
      ]
    }
  ]
}